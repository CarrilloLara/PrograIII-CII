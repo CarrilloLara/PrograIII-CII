{
  "nbformat": 4,
  "nbformat_minor": 0,
  "metadata": {
    "colab": {
      "provenance": [],
      "authorship_tag": "ABX9TyPbKorPgt2w87BqIzm8pESX",
      "include_colab_link": true
    },
    "kernelspec": {
      "name": "python3",
      "display_name": "Python 3"
    },
    "language_info": {
      "name": "python"
    }
  },
  "cells": [
    {
      "cell_type": "markdown",
      "metadata": {
        "id": "view-in-github",
        "colab_type": "text"
      },
      "source": [
        "<a href=\"https://colab.research.google.com/github/josejimenez20/PrograIII-CII/blob/main/Fundamentos_de_python.ipynb\" target=\"_parent\"><img src=\"https://colab.research.google.com/assets/colab-badge.svg\" alt=\"Open In Colab\"/></a>"
      ]
    },
    {
      "cell_type": "code",
      "execution_count": null,
      "metadata": {
        "colab": {
          "base_uri": "https://localhost:8080/"
        },
        "collapsed": true,
        "id": "k9kNAAsY5NW-",
        "outputId": "f82a0b29-97da-4586-9a9b-4d078f2fc754"
      },
      "outputs": [
        {
          "output_type": "stream",
          "name": "stdout",
          "text": [
            "Hola Mundo\n",
            "Hola  Jose Jimenez , inicial:  J J\n"
          ]
        }
      ],
      "source": [
        "print(\"Hola Mundo\")\n",
        "Nombre = \"Jose Jimenez\"\n",
        "\n",
        "\n",
        "print(\"Hola \", Nombre, \", inicial: \", Nombre[0], Nombre[5])"
      ]
    },
    {
      "cell_type": "markdown",
      "source": [
        "EJERCICIO, crear un programa en python que sume dos numeros"
      ],
      "metadata": {
        "id": "44_ljq_V9wRG"
      }
    },
    {
      "cell_type": "code",
      "source": [
        "num1 = 5\n",
        "num2 = 9.5\n",
        "resp = num1 + num2\n",
        "print(\"la suma es:\", resp)\n"
      ],
      "metadata": {
        "colab": {
          "base_uri": "https://localhost:8080/"
        },
        "collapsed": true,
        "id": "BSCZbvt29-QY",
        "outputId": "5dbaddbb-30e1-4349-aa1a-3355ddebf446"
      },
      "execution_count": null,
      "outputs": [
        {
          "output_type": "stream",
          "name": "stdout",
          "text": [
            "la suma es: 14.5\n"
          ]
        }
      ]
    },
    {
      "cell_type": "markdown",
      "source": [],
      "metadata": {
        "id": "BBn-VkFV9wNt"
      }
    },
    {
      "cell_type": "markdown",
      "source": [
        "EJERCICIO, Crear un programa en python que sume dos numeros introducidos por el usuario"
      ],
      "metadata": {
        "id": "8R2mH-dM_i2H"
      }
    },
    {
      "cell_type": "code",
      "source": [
        "print(\"Num1\")\n",
        "Num1 = float(input())\n",
        "\n",
        "print(\"Num2\")\n",
        "Num2 = float(input())\n",
        "\n",
        "resp = Num1 + Num2\n",
        "print(\"la suma es:\", resp)\n"
      ],
      "metadata": {
        "colab": {
          "base_uri": "https://localhost:8080/"
        },
        "collapsed": true,
        "id": "VXcYAQ84_5CA",
        "outputId": "7c84a128-17b3-4a6a-ecc7-13b9bfd9e3af"
      },
      "execution_count": null,
      "outputs": [
        {
          "output_type": "stream",
          "name": "stdout",
          "text": [
            "Num1\n",
            "10\n",
            "Num2\n",
            "10\n",
            "la suma es: 20.0\n"
          ]
        }
      ]
    },
    {
      "cell_type": "code",
      "source": [
        "#Tipos de datos\n",
        "num1 = 5\n",
        "num2 = 5.9\n",
        "nombre = \"Jose Jimenez\"\n",
        "print(nombre[0:4], nombre[:4], nombre[-1], nombre[5:], nombre[5:len(nombre)])\n",
        "\n",
        "estado = True\n",
        "print(estado)\n",
        "\n",
        "print(type(nombre), type(num1), type(num2), type(estado))\n"
      ],
      "metadata": {
        "colab": {
          "base_uri": "https://localhost:8080/"
        },
        "collapsed": true,
        "id": "8W8fyP3EC29r",
        "outputId": "cc57b1de-fbd3-4067-e181-a3c9516ac676"
      },
      "execution_count": null,
      "outputs": [
        {
          "output_type": "stream",
          "name": "stdout",
          "text": [
            "Jose Jose z Jimenez Jimenez\n",
            "True\n",
            "<class 'str'> <class 'int'> <class 'float'> <class 'bool'>\n"
          ]
        }
      ]
    },
    {
      "cell_type": "markdown",
      "source": [
        "EJERCICIO, cree un programa en python que lea un numero y dertermine si es par o impar"
      ],
      "metadata": {
        "id": "0p0Xz6wLEy1R"
      }
    },
    {
      "cell_type": "code",
      "source": [
        "num = int(input(\"Ingrese un numero: \"))\n",
        "if num % 2 == 0:\n",
        "    print(\"El numero es par\" , num)\n",
        "else:\n",
        "    print(\"El numero es impar\")"
      ],
      "metadata": {
        "colab": {
          "base_uri": "https://localhost:8080/"
        },
        "collapsed": true,
        "id": "0j4ljacIFGo-",
        "outputId": "5ce81487-9a25-47be-a14f-5783d853d67c"
      },
      "execution_count": null,
      "outputs": [
        {
          "output_type": "stream",
          "name": "stdout",
          "text": [
            "Ingrese un numero: 5\n",
            "El numero es impar\n"
          ]
        }
      ]
    },
    {
      "cell_type": "markdown",
      "source": [
        "EJERCICIO: Uso de las funciones de usuario, con la suma de dos numeros."
      ],
      "metadata": {
        "id": "3O5iadWIjS1H"
      }
    },
    {
      "cell_type": "code",
      "source": [
        "def suma(num1, num2):\n",
        "    return num1 + num2\n",
        "\n",
        "num1 = float(input(\"Num 1: \"))\n",
        "num2 = float(input(\"Num 2: \"))\n",
        "resp = suma(num1, num2)\n",
        "print(\"La suma es: \", resp)\n"
      ],
      "metadata": {
        "id": "sH6B5vi4a3MU",
        "collapsed": true,
        "colab": {
          "base_uri": "https://localhost:8080/"
        },
        "outputId": "34b82dbe-d2d2-4807-f56b-8a65a9517649"
      },
      "execution_count": 3,
      "outputs": [
        {
          "output_type": "stream",
          "name": "stdout",
          "text": [
            "Num 1: 1\n",
            "Num 2: 1\n",
            "La suma es:  2.0\n"
          ]
        }
      ]
    },
    {
      "cell_type": "markdown",
      "source": [
        "EJERCICIO: Coonvertir grados celsius a farenheit, usando funciones de usuario."
      ],
      "metadata": {
        "id": "IL81eFXmm223"
      }
    },
    {
      "cell_type": "code",
      "source": [
        "def convertir_cf(c):\n",
        "    return c * 1.8 + 32\n",
        "\n",
        "c = float(input(\"Celsius: \"))\n",
        "print(\"F: \", convertir_cf(c))\n"
      ],
      "metadata": {
        "colab": {
          "base_uri": "https://localhost:8080/"
        },
        "id": "GYnD7YBam3qd",
        "outputId": "0c5a32e4-1d5f-412f-ed9e-8f8a62ae5193"
      },
      "execution_count": 4,
      "outputs": [
        {
          "output_type": "stream",
          "name": "stdout",
          "text": [
            "Celsius: 5\n",
            "F:  41.0\n"
          ]
        }
      ]
    },
    {
      "cell_type": "markdown",
      "source": [
        "EJERCICIO: Determina si un numero es par o impar"
      ],
      "metadata": {
        "id": "Mu1Wae3om_F0"
      }
    },
    {
      "cell_type": "code",
      "source": [
        "def parImpar(num):\n",
        "    if num % 2 == 0:\n",
        "        return \"par\"\n",
        "    return \"impar\"\n",
        "\n",
        "num = int(input(\"Num: \"))\n",
        "print(\"El número\", num, \"es:\", parImpar(num))\n"
      ],
      "metadata": {
        "colab": {
          "base_uri": "https://localhost:8080/"
        },
        "id": "1VHRNZOxnAu3",
        "outputId": "8eb3e106-6da2-4298-e4e1-eb495191884b"
      },
      "execution_count": 1,
      "outputs": [
        {
          "output_type": "stream",
          "name": "stdout",
          "text": [
            "Num: 7\n",
            "El número 7 es: impar\n"
          ]
        }
      ]
    },
    {
      "cell_type": "markdown",
      "source": [
        "Tarea para MIERCOLES\n",
        "Convertir grados Fahrenheit a Celsius"
      ],
      "metadata": {
        "id": "OjXhHu244X2I"
      }
    },
    {
      "cell_type": "code",
      "source": [
        "def convertir_fc(f):\n",
        "    return (f - 32) / 1.8\n",
        "\n",
        "f = float(input(\"Fahrenheit: \"))\n",
        "print(\"Celsius: \", convertir_fc(f))\n"
      ],
      "metadata": {
        "colab": {
          "base_uri": "https://localhost:8080/"
        },
        "id": "cv3YQKQi408j",
        "outputId": "7e26f033-c172-4018-c6e4-daed5c521218"
      },
      "execution_count": 2,
      "outputs": [
        {
          "output_type": "stream",
          "name": "stdout",
          "text": [
            "Fahrenheit: 5\n",
            "Celsius:  -15.0\n"
          ]
        }
      ]
    },
    {
      "cell_type": "markdown",
      "source": [
        "Convertir grados [Celsius y Fahrenheit] a Kelvin"
      ],
      "metadata": {
        "id": "0daMwIDX5Rqg"
      }
    },
    {
      "cell_type": "code",
      "source": [
        "def convertir_ck(c):\n",
        "    return c + 273.15\n",
        "\n",
        "c = float(input(\"Celsius: \"))\n",
        "print(\"Kelvin: \", convertir_ck(c))\n"
      ],
      "metadata": {
        "colab": {
          "base_uri": "https://localhost:8080/"
        },
        "id": "YQ_MQrNu5ML0",
        "outputId": "e725baf6-1be7-4301-947f-8b851d3b4580"
      },
      "execution_count": 3,
      "outputs": [
        {
          "output_type": "stream",
          "name": "stdout",
          "text": [
            "Celsius: 1\n",
            "Kelvin:  274.15\n"
          ]
        }
      ]
    },
    {
      "cell_type": "markdown",
      "source": [
        "Convertir de Fahrenheit a Kelvin:"
      ],
      "metadata": {
        "id": "Yaf7FtUi5YxK"
      }
    },
    {
      "cell_type": "code",
      "source": [
        "def convertir_fk(f):\n",
        "    return (f - 32) / 1.8 + 273.15\n",
        "\n",
        "f = float(input(\"Fahrenheit: \"))\n",
        "print(\"Kelvin: \", convertir_fk(f))\n"
      ],
      "metadata": {
        "colab": {
          "base_uri": "https://localhost:8080/"
        },
        "id": "qkdeIyP55b9s",
        "outputId": "889aea5b-b6ea-45ce-ca0a-f5604947c1ee"
      },
      "execution_count": 4,
      "outputs": [
        {
          "output_type": "stream",
          "name": "stdout",
          "text": [
            "Fahrenheit: 1\n",
            "Kelvin:  255.92777777777775\n"
          ]
        }
      ]
    },
    {
      "cell_type": "markdown",
      "source": [
        "EJERCICIO: Calcular el sueldo de un trabajador"
      ],
      "metadata": {
        "id": "GZzYvj795gL2"
      }
    },
    {
      "cell_type": "code",
      "source": [
        "def sueldo(numHrs, valorXHrs):\n",
        "    sueldo = numHrs * valorXHrs * 30\n",
        "    if numHrs > 8:\n",
        "        sueldo = sueldo + (numHrs - 8) * valorXHrs * 30 * 0.5\n",
        "    return sueldo\n",
        "\n",
        "numHrs = int(input(\"Horas: \"))\n",
        "valorXHrs = float(input(\"Valor: \"))\n",
        "print(\"Sueldo: \", sueldo(numHrs, valorXHrs))\n"
      ],
      "metadata": {
        "colab": {
          "base_uri": "https://localhost:8080/"
        },
        "id": "cxpCi6EO5i8o",
        "outputId": "3902d2f1-71f4-4e8f-9baa-3f34726aa12a"
      },
      "execution_count": 5,
      "outputs": [
        {
          "output_type": "stream",
          "name": "stdout",
          "text": [
            "Horas: 15\n",
            "Valor: 5\n",
            "Sueldo:  2775.0\n"
          ]
        }
      ]
    }
  ]
}